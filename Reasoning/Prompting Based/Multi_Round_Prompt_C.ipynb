{
  "cells": [
    {
      "cell_type": "code",
      "execution_count": null,
      "metadata": {
        "id": "Fz9mUp5UH3EZ"
      },
      "outputs": [],
      "source": [
        "import google.generativeai as genai\n",
        "\n",
        "# Configure API Key\n",
        "genai.configure(api_key=\"\")"
      ]
    },
    {
      "cell_type": "code",
      "execution_count": null,
      "metadata": {
        "id": "d4grBbxlJBKC"
      },
      "outputs": [],
      "source": [
        "def generate_bengali_summary_v2(content):\n",
        "    prompt = f\"\"\"\n",
        "    User:\n",
        "    Act as an expert in Bengali Summary Generation.\n",
        "    You are given some language descriptions in Bengali of a first person view video. The video is 3 minute long.\n",
        "    Each sentence describes a 1s clip. Here are the descriptions: \"{content}\"\n",
        "    Please generate a 500 words summary that captures the key details of the descriptions while preserving the most\n",
        "    relevant aspects of the content.\n",
        "\n",
        "    Assistant:\n",
        "    \"\"\"\n",
        "\n",
        "    # Call Gemini API\n",
        "    generation_config = {\n",
        "        \"temperature\": 0,\n",
        "    }\n",
        "    response = genai.GenerativeModel(\"gemini-2.0-flash\", generation_config=generation_config).generate_content(prompt)\n",
        "    return response.text if response.parts else None"
      ]
    },
    {
      "cell_type": "code",
      "execution_count": null,
      "metadata": {
        "id": "L7XawaphTYCf"
      },
      "outputs": [],
      "source": [
        "# Define Bengali MCQ Prompt with User-Assistant Format\n",
        "def generate_bengali_mcq_answer_gemini_v3(summary, question, options):\n",
        "    prompt = f\"\"\"\n",
        "    User:\n",
        "    Act as an expert in Bengali MCQ Answer Generation.\n",
        "    You are given some language descriptions in Bengali of a first person view video. The video is 3 minutes long.\n",
        "    Each sentence describes a 1s clip. Here are the descriptions: \"{summary}\"\n",
        "    You are going to answer a multiple choice question based on the descriptions. Please provide a single-letter answer\n",
        "    to the following multiple-choice question, and your answer must be one of the letters (0, 1, 2, 3, or 4).\n",
        "    You must not provide any other response or explanation.\n",
        "    Here is the question: \"{question}\"\n",
        "    Here are the choices. 0: \"{options[0]}\". 1: \"{options[1]}\". 2: \"{options[2]}\". 3: \"{options[3]}\". 4: \"{options[4]}\".\n",
        "\n",
        "    Assistant:\n",
        "    \"\"\"\n",
        "\n",
        "    # Call Gemini API\n",
        "    generation_config = {\n",
        "        \"temperature\": 0,\n",
        "    }\n",
        "    response = genai.GenerativeModel(\"gemini-2.0-flash\", generation_config=generation_config).generate_content(prompt)\n",
        "    return response.text if response.parts else None"
      ]
    },
    {
      "cell_type": "code",
      "execution_count": null,
      "metadata": {
        "colab": {
          "base_uri": "https://localhost:8080/",
          "height": 758
        },
        "id": "kyVnGzZvMP1T",
        "outputId": "89ce82c3-0c08-4760-9751-ae0ef4b00491"
      },
      "outputs": [],
      "source": [
        "import pandas as pd\n",
        "df = pd.read_csv(\"/content/drive/MyDrive/Long Range Video Question Answering/Original Dataset/Questions_Answer.csv\")\n",
        "df.head()"
      ]
    },
    {
      "cell_type": "code",
      "execution_count": null,
      "metadata": {
        "colab": {
          "base_uri": "https://localhost:8080/",
          "height": 468
        },
        "id": "Vbo0dPGiI1U8",
        "outputId": "a0aa8ec2-6df7-43ae-f55b-13f7801fe764"
      },
      "outputs": [],
      "source": [
        "import time\n",
        "pred = []\n",
        "time_taken = []\n",
        "for _, row in df.iterrows():\n",
        "  start = time.process_time()\n",
        "  content = row['bengali_text']\n",
        "  question = row['question']\n",
        "  options = [(row['option 0'], row['option 1'], row['option 2'], row['option 3'], row['option 4'])]\n",
        "  summary = generate_bengali_summary_v2(content)\n",
        "  time.sleep(30)\n",
        "  pred.append(generate_bengali_mcq_answer_gemini_v3(summary, question, options[0]))\n",
        "  time_ = time.process_time() - start\n",
        "  print(\"Response time :\", time_)\n",
        "  time_taken.append(time_)\n",
        "  time.sleep(30)"
      ]
    },
    {
      "cell_type": "code",
      "execution_count": null,
      "metadata": {
        "colab": {
          "base_uri": "https://localhost:8080/"
        },
        "id": "0nmnnM76WVQQ",
        "outputId": "a51fc405-6bd7-4761-8e4b-90628aeced03"
      },
      "outputs": [],
      "source": [
        "pred_cl = [p.split(\"\\n\")[0] for p in pred]\n",
        "truth = df[['truth']]"
      ]
    },
    {
      "cell_type": "code",
      "execution_count": null,
      "metadata": {
        "colab": {
          "base_uri": "https://localhost:8080/"
        },
        "id": "izQGWbHHZnZv",
        "outputId": "b1c193f6-aa3f-4406-f91f-c78f8e125ccb"
      },
      "outputs": [],
      "source": [
        "sum(1 for x,y in zip(truth,pred_cl) if x == y) / len(truth)"
      ]
    },
    {
      "cell_type": "code",
      "execution_count": null,
      "metadata": {
        "colab": {
          "base_uri": "https://localhost:8080/"
        },
        "id": "lWpyrkqoeX1I",
        "outputId": "5d53c880-300e-42ba-c4ff-dd542e69510c"
      },
      "outputs": [],
      "source": [
        "sum(time_taken)/26"
      ]
    }
  ],
  "metadata": {
    "colab": {
      "provenance": []
    },
    "kernelspec": {
      "display_name": "Python 3",
      "name": "python3"
    },
    "language_info": {
      "name": "python"
    }
  },
  "nbformat": 4,
  "nbformat_minor": 0
}
