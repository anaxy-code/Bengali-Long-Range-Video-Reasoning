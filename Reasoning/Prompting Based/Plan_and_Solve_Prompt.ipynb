{
  "cells": [
    {
      "cell_type": "code",
      "execution_count": null,
      "metadata": {
        "id": "Fz9mUp5UH3EZ"
      },
      "outputs": [],
      "source": [
        "import google.generativeai as genai\n",
        "\n",
        "# Configure API Key\n",
        "genai.configure(api_key=\"\")"
      ]
    },
    {
      "cell_type": "markdown",
      "metadata": {
        "id": "mj9-PptuPGpQ"
      },
      "source": [
        "**Version 01**"
      ]
    },
    {
      "cell_type": "markdown",
      "metadata": {
        "id": "DyY2koJsPPx8"
      },
      "source": [
        "**Version 02**"
      ]
    },
    {
      "cell_type": "code",
      "execution_count": null,
      "metadata": {
        "id": "L7XawaphTYCf"
      },
      "outputs": [],
      "source": [
        "# Define Bengali MCQ Prompt with User-Assistant Format\n",
        "def generate_bengali_mcq_answer_gemini_v3(content, question, options):\n",
        "    prompt = f\"\"\"\n",
        "    User:\n",
        "    Act as an expert in Bengali MCQ Answer Generation.\n",
        "    You are given some language descriptions in Bengali of a first person view video. The video is 3 minute long.\n",
        "    Each sentence describes a 1s clip. Here are the descriptions: \"{content}\"\n",
        "    You are going to answer a multiple choice question based on the descriptions and your answer must be one of the\n",
        "    letters from the choices.\n",
        "    Here is the question: \"{question}\"\n",
        "    Here are the choices. 0: \"{options[0]}\". 1: \"{options[1]}\". 2: \"{options[2]}\". 3: \"{options[3]}\". 4: \"{options[4]}\".\n",
        "    To answer this question, first extract most relavant information and from it prepare 3 sub-questions. Then, answer\n",
        "    the sub-questions one by one. Finally, answer the multiple choice question.\n",
        "\n",
        "    Assistant:\n",
        "\n",
        "    User:\n",
        "    Please provide a single-letter answer (0, 1, 2, 3, 4) to the multiple-choice question, and your answer must be one\n",
        "    of the letters (0, 1, 2, 3, or 4). You must not provide any other response or explanation.\n",
        "\n",
        "    Assistant:\n",
        "\n",
        "    \"\"\"\n",
        "\n",
        "    # Call Gemini API\n",
        "    generation_config = {\n",
        "        \"temperature\": 0,\n",
        "    }\n",
        "    response = genai.GenerativeModel(\"gemini-2.0-flash\", generation_config=generation_config).generate_content(prompt)\n",
        "    return response.text if response.parts else None"
      ]
    },
    {
      "cell_type": "code",
      "execution_count": null,
      "metadata": {
        "colab": {
          "base_uri": "https://localhost:8080/",
          "height": 758
        },
        "id": "kyVnGzZvMP1T",
        "outputId": "994c6af4-ceaa-4689-a7b5-4c97194b3b44"
      },
      "outputs": [],
      "source": [
        "import pandas as pd\n",
        "df = pd.read_csv(\"/content/drive/MyDrive/Long Range Video Question Answering/Original Dataset/Questions_Answer.csv\")\n",
        "df.head()"
      ]
    },
    {
      "cell_type": "code",
      "execution_count": null,
      "metadata": {
        "colab": {
          "base_uri": "https://localhost:8080/",
          "height": 468
        },
        "id": "Vbo0dPGiI1U8",
        "outputId": "8e665e6c-8fd7-4ddd-b377-fc13e496f1f8"
      },
      "outputs": [],
      "source": [
        "import time\n",
        "pred = []\n",
        "time_taken = []\n",
        "for _, row in df.iterrows():\n",
        "  start = time.process_time()\n",
        "  content = row['bengali_text']\n",
        "  question = row['question']\n",
        "  options = [(row['option 0'], row['option 1'], row['option 2'], row['option 3'], row['option 4'])]\n",
        "  pred.append(generate_bengali_mcq_answer_gemini_v3(content, question, options[0]))\n",
        "  time_ = time.process_time() - start\n",
        "  print(\"Response time :\", time_)\n",
        "  time_taken.append(time_)\n",
        "  time.sleep(30)"
      ]
    },
    {
      "cell_type": "code",
      "execution_count": null,
      "metadata": {
        "colab": {
          "base_uri": "https://localhost:8080/"
        },
        "id": "JeQGuchOTEQo",
        "outputId": "9a4e83fd-c576-4b9f-f0b5-81a0d86c917e"
      },
      "outputs": [],
      "source": [
        "pred_cl = [p.split(\"\\n\")[-2] for p in pred]\n",
        "truth = df[['truth']]"
      ]
    },
    {
      "cell_type": "code",
      "execution_count": null,
      "metadata": {
        "colab": {
          "base_uri": "https://localhost:8080/"
        },
        "id": "izQGWbHHZnZv",
        "outputId": "3d202994-9c25-4a39-9d28-df09cf33023b"
      },
      "outputs": [],
      "source": [
        "sum(1 for x,y in zip(truth,pred_cl) if x == y) / len(truth)"
      ]
    },
    {
      "cell_type": "code",
      "execution_count": null,
      "metadata": {
        "colab": {
          "base_uri": "https://localhost:8080/"
        },
        "id": "th2tdnSdOA9u",
        "outputId": "3f38c09f-a3e1-4b30-edc1-b9b002ce205b"
      },
      "outputs": [],
      "source": [
        "sum(time_taken)/26"
      ]
    }
  ],
  "metadata": {
    "colab": {
      "provenance": []
    },
    "kernelspec": {
      "display_name": "Python 3",
      "name": "python3"
    },
    "language_info": {
      "name": "python"
    }
  },
  "nbformat": 4,
  "nbformat_minor": 0
}
