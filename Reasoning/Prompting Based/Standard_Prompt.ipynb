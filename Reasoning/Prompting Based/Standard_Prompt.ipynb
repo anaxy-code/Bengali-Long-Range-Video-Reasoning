{
  "cells": [
    {
      "cell_type": "code",
      "execution_count": null,
      "metadata": {
        "id": "Fz9mUp5UH3EZ"
      },
      "outputs": [],
      "source": [
        "import google.generativeai as genai\n",
        "\n",
        "# Configure API Key\n",
        "genai.configure(api_key=\"\")"
      ]
    },
    {
      "cell_type": "code",
      "execution_count": null,
      "metadata": {
        "id": "QsWCKDJMnCKq"
      },
      "outputs": [],
      "source": [
        "# Define Bengali MCQ Prompt with User-Assistant Format\n",
        "def generate_bengali_mcq_answer_gemini_v4(content, question, options):\n",
        "    prompt = f\"\"\"\n",
        "    User:\n",
        "    Act as an expert in Bengali MCQ Answer Generation.\n",
        "    Please provide a single-letter answer (0, 1, 2, 3, 4) to the following multiple-choice question,\n",
        "    and your answer must be one of the letters (0, 1, 2, 3, or 4). You must not provide any other\n",
        "    response or explanation.\n",
        "    You are given some language descriptions in Bengali of a first person view video. The video is 3 minute long.\n",
        "    Each sentence describes a 1s clip. Here are the descriptions: \"{content}\"\n",
        "    You are going to answer a multiple choice question based on the descriptions.\n",
        "    Here is the question: \"{question}\"\n",
        "    Here are the choices. 0: \"{options[0]}\". 1: \"{options[1]}\". 2: \"{options[2]}\". 3: \"{options[3]}\". 4: \"{options[4]}\".\n",
        "\n",
        "    Assistant:\n",
        "    \"\"\"\n",
        "\n",
        "    # Call Gemini API\n",
        "    generation_config = {\n",
        "        \"temperature\": 0,\n",
        "    }\n",
        "    response = genai.GenerativeModel(\"gemini-2.0-flash\", generation_config=generation_config).generate_content(prompt)\n",
        "    return response.text if response.parts else None"
      ]
    },
    {
      "cell_type": "code",
      "execution_count": null,
      "metadata": {
        "colab": {
          "base_uri": "https://localhost:8080/",
          "height": 758
        },
        "id": "kyVnGzZvMP1T",
        "outputId": "73a4f94a-008b-4d1a-aa55-6a23e3603ec2"
      },
      "outputs": [],
      "source": [
        "import pandas as pd\n",
        "df = pd.read_csv(\"/content/drive/MyDrive/Long Range Video Question Answering/Original Dataset/Questions_Answer.csv\")\n",
        "df.head()"
      ]
    },
    {
      "cell_type": "code",
      "execution_count": null,
      "metadata": {
        "colab": {
          "base_uri": "https://localhost:8080/",
          "height": 468
        },
        "id": "Vbo0dPGiI1U8",
        "outputId": "a6835092-e925-402a-9bc4-2423ee55aad2"
      },
      "outputs": [],
      "source": [
        "import time\n",
        "pred = []\n",
        "time_taken = []\n",
        "for _, row in df.iterrows():\n",
        "  start = time.process_time()\n",
        "  content = row['bengali_text']\n",
        "  question = row['question']\n",
        "  options = [(row['option 0'], row['option 1'], row['option 2'], row['option 3'], row['option 4'])]\n",
        "  pred.append(generate_bengali_mcq_answer_gemini_v4(content, question, options[0]))\n",
        "  time_ = time.process_time() - start\n",
        "  print(\"Response time :\", time_)\n",
        "  time_taken.append(time_)\n",
        "  time.sleep(30)"
      ]
    },
    {
      "cell_type": "code",
      "execution_count": null,
      "metadata": {
        "colab": {
          "base_uri": "https://localhost:8080/"
        },
        "id": "0nmnnM76WVQQ",
        "outputId": "ca4520a8-3ac8-4d8e-8b7f-8a0f46332291"
      },
      "outputs": [],
      "source": [
        "pred_cl = [p.split(\"\\n\")[0] for p in pred]\n",
        "truth = df[['truth']]"
      ]
    },
    {
      "cell_type": "code",
      "execution_count": null,
      "metadata": {
        "colab": {
          "base_uri": "https://localhost:8080/"
        },
        "id": "izQGWbHHZnZv",
        "outputId": "ed975ed8-800a-41f0-ef22-7b86a99321eb"
      },
      "outputs": [],
      "source": [
        "sum(1 for x,y in zip(truth,pred_cl) if x == y) / len(truth)"
      ]
    },
    {
      "cell_type": "code",
      "execution_count": null,
      "metadata": {
        "colab": {
          "base_uri": "https://localhost:8080/"
        },
        "id": "SG3KCyxg38os",
        "outputId": "de4e17b6-fd1a-4c9c-a862-c9497f60af42"
      },
      "outputs": [],
      "source": [
        "sum(time_taken)/26"
      ]
    }
  ],
  "metadata": {
    "colab": {
      "provenance": []
    },
    "kernelspec": {
      "display_name": "Python 3",
      "name": "python3"
    },
    "language_info": {
      "name": "python"
    }
  },
  "nbformat": 4,
  "nbformat_minor": 0
}
